{
 "cells": [
  {
   "cell_type": "markdown",
   "id": "13fab2b0",
   "metadata": {},
   "source": [
    "### NO.57 PAGE 126\n",
    "\n",
    "$$\n",
    "f(x,y)=x^{2}+9y^{2}\n",
    "$$"
   ]
  },
  {
   "cell_type": "code",
   "execution_count": null,
   "id": "6ab917e6",
   "metadata": {},
   "outputs": [],
   "source": [
    "# COURBES DE NIVEAU\n",
    "tx = ty = linspace (-10, 10, 50);\n",
    "[x, y] = meshgrid (tx, ty);\n",
    "z = x .^ 2 + 9 .* y .^ 2;\n",
    "contour(x, y, z);\n",
    "xlabel (\"x\");\n",
    "ylabel (\"y\");"
   ]
  },
  {
   "cell_type": "code",
   "execution_count": null,
   "id": "1675e960",
   "metadata": {},
   "outputs": [],
   "source": [
    "# GRAPHE\n",
    "tx = ty = linspace (-10, 10, 50);\n",
    "[x, y] = meshgrid (tx, ty);\n",
    "z = x .^ 2 + 9 .* y .^ 2;\n",
    "mesh(x, y, z);\n",
    "xlabel (\"x\");\n",
    "ylabel (\"y\");"
   ]
  },
  {
   "cell_type": "markdown",
   "id": "a387250e",
   "metadata": {},
   "source": [
    "### NO.59 PAGE 126\n",
    "\n",
    "$$\n",
    "T(x,y) = 100/(1+x^2+2y^2)\n",
    "$$"
   ]
  },
  {
   "cell_type": "code",
   "execution_count": null,
   "id": "bfc5bf01",
   "metadata": {},
   "outputs": [],
   "source": [
    "# COURBES DE NIVEAU\n",
    "tx = ty = linspace (-3, 3, 50);\n",
    "[x, y] = meshgrid (tx, ty);\n",
    "T = 100 ./ (1 + x .^ 2 + 2 .* y .^ 2);\n",
    "contour(x, y, T);\n",
    "xlabel (\"x\");\n",
    "ylabel (\"y\");"
   ]
  },
  {
   "cell_type": "markdown",
   "id": "6e9a2b24",
   "metadata": {},
   "source": [
    "### NO.61 PAGE 127\n",
    "\n",
    "$$\n",
    "f(x,y) = xy^2-x^3\n",
    "$$"
   ]
  },
  {
   "cell_type": "code",
   "execution_count": null,
   "id": "3d417724",
   "metadata": {},
   "outputs": [],
   "source": [
    "# GRAPHE\n",
    "tx = ty = linspace (-10, 10, 50);\n",
    "[x, y] = meshgrid (tx, ty);\n",
    "z = x .* y .^ 2 - x .^ 3;\n",
    "mesh(x, y, z);\n",
    "xlabel (\"x\");\n",
    "ylabel (\"y\");"
   ]
  },
  {
   "cell_type": "code",
   "execution_count": null,
   "id": "13c0e641",
   "metadata": {},
   "outputs": [],
   "source": [
    "# COURBES DE NIVEAU\n",
    "tx = ty = linspace (-10, 10, 500);\n",
    "[x, y] = meshgrid (tx, ty);\n",
    "z = x .* y .^ 2 - x .^ 3;\n",
    "contour(x, y, z);\n",
    "xlabel (\"x\");\n",
    "ylabel (\"y\");"
   ]
  },
  {
   "cell_type": "markdown",
   "id": "a2b46cdf",
   "metadata": {},
   "source": [
    "### NO.63 PAGE 127\n",
    "\n",
    "$$\n",
    "f(x,y) = e^{-(x^2+y^2)/3}(sin(x^2)+cos(y^2))\n",
    "$$"
   ]
  },
  {
   "cell_type": "code",
   "execution_count": null,
   "id": "e4827540",
   "metadata": {},
   "outputs": [],
   "source": [
    "# GRAPHE\n",
    "tx = ty = linspace (-4, 4, 50);\n",
    "[x, y] = meshgrid (tx, ty);\n",
    "z = exp(-(x .^ 2 + y .^ 2)./3).*(sin (x .^ 2) + cos (y .^ 2));\n",
    "mesh(x, y, z);\n",
    "xlabel (\"x\");\n",
    "ylabel (\"y\");"
   ]
  },
  {
   "cell_type": "code",
   "execution_count": null,
   "id": "51957e58",
   "metadata": {},
   "outputs": [],
   "source": [
    "# COURBE DE NIVEAU\n",
    "tx = ty = linspace (-4, 4, 50);\n",
    "[x, y] = meshgrid (tx, ty);\n",
    "z = exp(-(x .^ 2 + y .^ 2)./3).*(sin (x .^ 2) + cos (y .^ 2));\n",
    "contour(x, y, z);\n",
    "xlabel (\"x\");\n",
    "ylabel (\"y\");"
   ]
  },
  {
   "cell_type": "markdown",
   "id": "9d428d5b",
   "metadata": {},
   "source": [
    "### NO.65 PAGE 127\n",
    "\n",
    "$$\n",
    "z=sin(xy)\n",
    "$$"
   ]
  },
  {
   "cell_type": "code",
   "execution_count": null,
   "id": "9b45b323",
   "metadata": {},
   "outputs": [],
   "source": [
    "# GRAPHE\n",
    "tx = ty = linspace (-pi, pi, 50);\n",
    "[x, y] = meshgrid (tx, ty);\n",
    "z = sin (x .* y);\n",
    "mesh(x, y, z);\n",
    "xlabel (\"x\");\n",
    "ylabel (\"y\");"
   ]
  },
  {
   "cell_type": "code",
   "execution_count": null,
   "id": "253a3b9d",
   "metadata": {},
   "outputs": [],
   "source": [
    "# GRAPHE\n",
    "tx = ty = linspace (-pi, pi, 50);\n",
    "[x, y] = meshgrid (tx, ty);\n",
    "z = sin (x .* y);\n",
    "contour(x, y, z);\n",
    "xlabel (\"x\");\n",
    "ylabel (\"y\");"
   ]
  },
  {
   "cell_type": "markdown",
   "id": "cb6596cf",
   "metadata": {},
   "source": [
    "#### Donc réponse : a) C b) II"
   ]
  },
  {
   "cell_type": "markdown",
   "id": "26680cc3",
   "metadata": {},
   "source": [
    "### NO.67 PAGE 127\n",
    "\n",
    "$$\n",
    "z=sin(x-y)\n",
    "$$"
   ]
  },
  {
   "cell_type": "code",
   "execution_count": null,
   "id": "c3ed0e8a",
   "metadata": {},
   "outputs": [],
   "source": [
    "# GRAPHE\n",
    "tx = ty = linspace (-pi, pi, 50);\n",
    "[x, y] = meshgrid (tx, ty);\n",
    "z = sin (x .- y);\n",
    "mesh(x, y, z);\n",
    "xlabel (\"x\");\n",
    "ylabel (\"y\");"
   ]
  },
  {
   "cell_type": "code",
   "execution_count": null,
   "id": "dbb00beb",
   "metadata": {},
   "outputs": [],
   "source": [
    "# COURBES DE NIVEAU\n",
    "tx = ty = linspace (-4, 4, 50);\n",
    "[x, y] = meshgrid (tx, ty);\n",
    "z = sin (x .- y);\n",
    "contour(x, y, z);\n",
    "xlabel (\"x\");\n",
    "ylabel (\"y\");"
   ]
  },
  {
   "cell_type": "markdown",
   "id": "b580e69c",
   "metadata": {},
   "source": [
    "#### Donc réponse : a) F b) I"
   ]
  }
 ],
 "metadata": {
  "kernelspec": {
   "display_name": "Octave",
   "language": "octave",
   "name": "octave"
  },
  "language_info": {
   "file_extension": ".m",
   "help_links": [
    {
     "text": "GNU Octave",
     "url": "https://www.gnu.org/software/octave/support.html"
    },
    {
     "text": "Octave Kernel",
     "url": "https://github.com/Calysto/octave_kernel"
    },
    {
     "text": "MetaKernel Magics",
     "url": "https://metakernel.readthedocs.io/en/latest/source/README.html"
    }
   ],
   "mimetype": "text/x-octave",
   "name": "octave",
   "version": "5.2.0"
  }
 },
 "nbformat": 4,
 "nbformat_minor": 5
}
